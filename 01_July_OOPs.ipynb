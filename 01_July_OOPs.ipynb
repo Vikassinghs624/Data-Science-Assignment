{
 "cells": [
  {
   "cell_type": "markdown",
   "id": "31f529b8",
   "metadata": {},
   "source": [
    "Q.1 What is the primary goal of Object-Oriented Programming (OOP)? "
   ]
  },
  {
   "cell_type": "markdown",
   "id": "321001e7",
   "metadata": {},
   "source": [
    "Answer: The primary goal of Object-Oriented Programming (OOP) is to design and structure software in a way that models real-world entities and their interactions by organizing code into objects.\n",
    "\n",
    "- OOP promotes the following key principles and goals:\n",
    "\n",
    "  1. Abstraction: OOP allows you to abstract complex systems by representing them using objects and        classes. This means focusing on the essential characteristics and behavior of real-world entities \n",
    "     while hiding unnecessary details.\n",
    "\n",
    "  2. Encapsulation: Encapsulation is the concept of bundling data (attributes) and the methods\n",
    "     (functions) that operate on that data into a single unit called an object. This provides a way to\n",
    "     control access to the data and ensures that it is only modified through defined methods,\n",
    "     enhancing data security and maintainability.\n",
    "\n",
    "  3. Inheritance: Inheritance is a mechanism that allows you to create new classes based on existing \n",
    "     classes, inheriting their attributes and behaviors. This promotes code reusability and the\n",
    "     creation of hierarchies of related objects.\n",
    "\n",
    "  4. Polymorphism: Polymorphism allows objects of different classes to be treated as objects of a\n",
    "     common superclass. It enables you to write more flexible and generic code that can work with \n",
    "     different types of objects, promoting code extensibility and adaptability.\n",
    "\n",
    "  5. Modularity: OOP encourages breaking down a large, complex software system into smaller, more \n",
    "     manageable modules or classes. Each class should have a specific responsibility, making the code \n",
    "     easier to understand, test, and maintain.\n",
    "\n",
    "  6. Ease of Maintenance: OOP aims to make code more maintainable by organizing it into objects and\n",
    "     classes, reducing the complexity of understanding and modifying the software over time.\n",
    "\n",
    "  7. Code Reusability: By creating classes that can be reused in different parts of an application or\n",
    "     even in other projects, OOP helps save development time and promotes a more efficient software\n",
    "     development process.\n",
    "\n",
    "  8. Modeling Real-World Concepts: OOP allows developers to model real-world entities and their \n",
    "     relationships, which makes it easier to understand, communicate about, and develop software that \n",
    "     closely resembles the problem domain."
   ]
  },
  {
   "cell_type": "markdown",
   "id": "73fd423d",
   "metadata": {},
   "source": [
    "Q.2 What is an object in Python? "
   ]
  },
  {
   "cell_type": "markdown",
   "id": "e1219e73",
   "metadata": {},
   "source": [
    "Answer: In Python, an object is a fundamental concept that represents a unique instance of a particular data structure or class. Everything in Python is an object, including data types like numbers and strings, as well as more complex structures created using classes"
   ]
  },
  {
   "cell_type": "code",
   "execution_count": 9,
   "id": "f1cfad04",
   "metadata": {},
   "outputs": [
    {
     "name": "stdout",
     "output_type": "stream",
     "text": [
      "Buddy\n",
      "Buddy says Woof!\n"
     ]
    }
   ],
   "source": [
    "# Program \n",
    "\n",
    "class Dog:\n",
    "    def __init__(self, name):\n",
    "        self.name = name\n",
    "\n",
    "    def bark(self):\n",
    "        print(f\"{self.name} says Woof!\")\n",
    "\n",
    "# Creating a Dog object\n",
    "my_dog = Dog(\"Buddy\")\n",
    "\n",
    "# Accessing object attributes\n",
    "print(my_dog.name)  # Output: Buddy\n",
    "\n",
    "# Calling object methods\n",
    "my_dog.bark()  # Output: Buddy says Woof!\n",
    "\n",
    "\n",
    "\n",
    "\n"
   ]
  },
  {
   "cell_type": "markdown",
   "id": "8643eea4",
   "metadata": {},
   "source": [
    "Q.3 What is a class in Python? \n"
   ]
  },
  {
   "cell_type": "markdown",
   "id": "2e9b7040",
   "metadata": {},
   "source": [
    "Answer: In Python, a class is a blueprint or a template for creating objects. It defines the structure and behavior that objects created from the class will have. A class serves as a way to encapsulate data (attributes) and methods (functions) into a single unit. Here are the key characteristics and components of a class in Python."
   ]
  },
  {
   "cell_type": "code",
   "execution_count": 8,
   "id": "f97b4a69",
   "metadata": {},
   "outputs": [
    {
     "name": "stdout",
     "output_type": "stream",
     "text": [
      "Alice\n",
      "25\n",
      "My name is Alice and I am 30 years old.\n",
      "My name is Bob and I am 25 years old.\n"
     ]
    }
   ],
   "source": [
    "# Program \n",
    "\n",
    "class Person:\n",
    "    def __init__(self, name, age):\n",
    "        self.name = name  # Instance variable\n",
    "        self.age = age    # Instance variable\n",
    "\n",
    "    def introduce(self):\n",
    "        print(f\"My name is {self.name} and I am {self.age} years old.\")\n",
    "\n",
    "# Creating objects (instances) of the Person class\n",
    "person1 = Person(\"Alice\", 30)\n",
    "person2 = Person(\"Bob\", 25)\n",
    "\n",
    "# Accessing attributes and calling methods of objects\n",
    "print(person1.name)    # Output: Alice\n",
    "print(person2.age)     # Output: 25\n",
    "person1.introduce()    # Output: My name is Alice and I am 30 years old.\n",
    "person2.introduce()    # Output: My name is Bob and I am 25 years old."
   ]
  },
  {
   "cell_type": "markdown",
   "id": "1b35a15a",
   "metadata": {},
   "source": [
    "Q.4 What are attributes and methods in a class? \n"
   ]
  },
  {
   "cell_type": "markdown",
   "id": "4ebd5898",
   "metadata": {},
   "source": [
    "Here is a breakdown of what attributes and methods are in a class:\n",
    "\n",
    "- Attributes: Attributes are variables defined within a class that store data associated with objects created from that class. Class variables are shared among all instances of the class and represent properties common to all objects of that class. Attributes are accessed using dot notation (object.attribute_name) and can be modified directly.\n",
    "\n",
    "- Methods: Methods are functions defined within a class that define the behavior or actions that objects created from the class can perform. They are defined with the def keyword, just like regular functions, but they are part of the class. Methods can be called on objects, and they can perform various operations or calculations and may return values."
   ]
  },
  {
   "cell_type": "code",
   "execution_count": 10,
   "id": "cd05b466",
   "metadata": {},
   "outputs": [
    {
     "name": "stdout",
     "output_type": "stream",
     "text": [
      "5\n",
      "78.53975\n"
     ]
    }
   ],
   "source": [
    "# Program \n",
    "\n",
    "class Circle:\n",
    "    def __init__(self, radius):\n",
    "        self.radius = radius  # Instance variable\n",
    "\n",
    "    def calculate_area(self):\n",
    "        return 3.14159 * self.radius ** 2\n",
    "\n",
    "# Creating an object (instance) of the Circle class\n",
    "circle1 = Circle(5)\n",
    "\n",
    "# Accessing attributes and calling methods of the object\n",
    "print(circle1.radius)           # Output: 5\n",
    "area = circle1.calculate_area()  # Output: 78.53975\n",
    "print(area)\n"
   ]
  },
  {
   "cell_type": "markdown",
   "id": "3ab87de9",
   "metadata": {},
   "source": [
    "Q.5  What is the difference between class variables and instance variables in Python? "
   ]
  },
  {
   "cell_type": "markdown",
   "id": "a9703aec",
   "metadata": {},
   "source": [
    "Answer:  \n",
    "In Python, class variables and instance variables are both used to store data within classes, but they have different scopes and purposes. Here's a breakdown of the differences between them:\n",
    "\n",
    "- Class Variable:\n",
    "  A class variable is shared among all instances (objects) of the class.\n",
    "  It is defined within the class but outside of any instance methods.\n",
    "  Class variables are associated with the class itself, not with specific \n",
    "  instances.\n",
    "  Changes made to a class variable will affect all instances of the class.\n",
    "  \n",
    "- Instance Variable:\n",
    "  An instance variable is unique to each instance of the class.\n",
    "  It is defined within the class's methods, typically within the constructor (the __init__ method).\n",
    "  Each instance of the class has its own separate set of instance variables.\n",
    "  Changes made to an instance variable only affect that specific instance.\n",
    "  \n",
    "\n"
   ]
  },
  {
   "cell_type": "code",
   "execution_count": 6,
   "id": "f40e571d",
   "metadata": {},
   "outputs": [
    {
     "name": "stdout",
     "output_type": "stream",
     "text": [
      "42\n",
      "42\n",
      "10\n",
      "2\n"
     ]
    }
   ],
   "source": [
    "# Program \n",
    "\n",
    "class MyClass:\n",
    "    class_var = 0  # Class variable\n",
    "\n",
    "    def __init__(self, value):\n",
    "        self.instance_var = value  # Instance variable\n",
    "\n",
    "# Creating instances\n",
    "obj1 = MyClass(1)\n",
    "obj2 = MyClass(2)\n",
    "\n",
    "# Modifying class variable\n",
    "MyClass.class_var = 42\n",
    "\n",
    "# Modifying instance variable\n",
    "obj1.instance_var = 10\n",
    "\n",
    "print(obj1.class_var)  # 42 (shared among all instances)\n",
    "print(obj2.class_var)  # 42 (shared among all instances)\n",
    "\n",
    "print(obj1.instance_var)  # 10 (specific to obj1)\n",
    "print(obj2.instance_var)  # 2 (specific to obj2)\n",
    "\n",
    "\n",
    "\n",
    "\n"
   ]
  },
  {
   "cell_type": "markdown",
   "id": "2a328ed8",
   "metadata": {},
   "source": [
    "Q.6: What is the purpose of the self parameter in Python class methods?\n"
   ]
  },
  {
   "cell_type": "markdown",
   "id": "ea344dc1",
   "metadata": {},
   "source": [
    "Answer: In Python, the self parameter in class methods serves a specific purpose: it represents the instance of the class on which the method is called\n",
    "\n",
    "- Accessing Instance Variables:\n",
    "\n",
    "Inside a class method, you can use self to access and modify instance variables. Instance variables are unique to each instance of the class, and self allows you to differentiate and work with the variables specific to the current instance.\n",
    "\n",
    "- Calling Other Methods:\n",
    "\n",
    "self allows you to call other instance methods within the class. When you call a method using self, it is executed in the context of the current instance, allowing it to access and modify instance-specific data.\n",
    "\n",
    "- Creating and Managing Object State:\n",
    "\n",
    "self is essential for managing the state of objects. It provides a way to maintain and update the internal state of an instance, making it a fundamental concept in object-oriented programming."
   ]
  },
  {
   "cell_type": "code",
   "execution_count": 7,
   "id": "f0f9823b",
   "metadata": {},
   "outputs": [
    {
     "name": "stdout",
     "output_type": "stream",
     "text": [
      "Value: 42\n",
      "Value: 100\n"
     ]
    }
   ],
   "source": [
    "# Program \n",
    "\n",
    "class MyClass:\n",
    "    def __init__(self, value):\n",
    "        self.value = value  # Instance variable\n",
    "\n",
    "    def display(self):\n",
    "        print(f\"Value: {self.value}\")\n",
    "\n",
    "    def update(self, new_value):\n",
    "        self.value = new_value  # Accessing and modifying instance variable\n",
    "\n",
    "# Creating an instance\n",
    "obj = MyClass(42)\n",
    "\n",
    "# Calling instance methods\n",
    "obj.display()  # Output: Value: 42\n",
    "\n",
    "obj.update(100)\n",
    "obj.display()  # Output: Value: 100"
   ]
  },
  {
   "cell_type": "markdown",
   "id": "75e4af5e",
   "metadata": {},
   "source": [
    "Q.7: 7. For a library management system, you have to design the \"Book\" class with OOP principles in mind. The “Book” class will have following attributes: \n",
    "a. title: Represents the title of the book. \n",
    "b. author: Represents the author(s) of the book. \n",
    "c. isbn: Represents the ISBN (International Standard Book Number) of the book. d. publication_year: Represents the year of publication of the book. \n",
    "e. available_copies: Represents the number of copies available for checkout.\n",
    "\n",
    "The class will also include the following methods: \n",
    "a. check_out(self): Decrements the available copies by one if there are copies available for checkout. \n",
    "b. return_book(self): Increments the available copies by one when a book is returned. \n",
    "c. display_book_info(self): Displays the information about the book, including its attributes and the number of available copies. \n"
   ]
  },
  {
   "cell_type": "code",
   "execution_count": 28,
   "id": "e3c1b1f8",
   "metadata": {},
   "outputs": [],
   "source": [
    "class Book:\n",
    "    def __init__(self,title,author,isbn,publication_year,available_copies):\n",
    "        self.title=title # Instance variable\n",
    "        self.author=author # Instance variable\n",
    "        self.isbn=isbn # Instance variable\n",
    "        self.publication_year=publication_year # Instance variable\n",
    "        self.available_copies=available_copies # Instance variable\n",
    "    \n",
    "    def check_out(self):\n",
    "        if self.available_copies >0:\n",
    "            self.available_copies-=1 # Accessing and modifying instance variable\n",
    "            print(f\"Checked out '{self.title}' by {self.author}. Available copies: {self.available_copies}\")\n",
    "        else:\n",
    "            print(f\"Sorry, '{self.title}' is currently not available for checkout.\")\n",
    "\n",
    "        \n",
    "    def return_book(self):\n",
    "        self.available_copies+=1 # Accessing and modifying instance variable\n",
    "        print(f\"Returned '{self.title}' by {self.author}. Available copies: {self.available_copies}\")\n",
    "    \n",
    "    def display_book_info(self): # Displaying the information of instance variable by using methods\n",
    "        print(\"Book Information:\")\n",
    "        print(f\"Title: {self.title}\")\n",
    "        print(f\"Author: {self.author}\")\n",
    "        print(f\"ISBN: {self.isbn}\")\n",
    "        print(f\"Publication Year: {self.publication_year}\")\n",
    "        print(f\"Available Copies: {self.available_copies}\")\n",
    "        \n",
    "    \n",
    "        "
   ]
  },
  {
   "cell_type": "code",
   "execution_count": 134,
   "id": "007b1a40",
   "metadata": {},
   "outputs": [],
   "source": [
    "# Creating an instance\n",
    "book1 = Book(\"The Great Gatsby\", \"F. Scott Fitzgerald\", \"978-0743273565\", 1925, 5)\n",
    "book2 = Book(\"To Kill a Mockingbird\", \"Harper Lee\", \"978-0061120084\", 1960, 3)\n",
    "\n"
   ]
  },
  {
   "cell_type": "code",
   "execution_count": 135,
   "id": "74259590",
   "metadata": {},
   "outputs": [
    {
     "name": "stdout",
     "output_type": "stream",
     "text": [
      "The The Great Gatsby whose author is F. Scott Fitzgerald & its publication year is 1925 with 978-0743273565 has available copies 5 \n",
      "The available copies in stock by now :4\n",
      "The available copies in stock by now :5\n"
     ]
    }
   ],
   "source": [
    "# Calling instance methods\n",
    "book1.display_book_info()\n",
    "book1.check_out()\n",
    "book1.return_book()\n",
    "\n"
   ]
  },
  {
   "cell_type": "code",
   "execution_count": 136,
   "id": "6c506bf4",
   "metadata": {},
   "outputs": [
    {
     "name": "stdout",
     "output_type": "stream",
     "text": [
      "The To Kill a Mockingbird whose author is Harper Lee & its publication year is 1960 with 978-0061120084 has available copies 3 \n",
      "The available copies in stock by now :2\n",
      "The available copies in stock by now :1\n"
     ]
    }
   ],
   "source": [
    "book2.display_book_info()\n",
    "book2.check_out()\n",
    "book2.check_out()"
   ]
  },
  {
   "cell_type": "code",
   "execution_count": 32,
   "id": "ee4e393c",
   "metadata": {},
   "outputs": [
    {
     "name": "stdout",
     "output_type": "stream",
     "text": [
      "The available copies in stock by now :49\n"
     ]
    }
   ],
   "source": [
    "# Calling instance methods\n",
    "book.return_book()"
   ]
  },
  {
   "cell_type": "code",
   "execution_count": 33,
   "id": "3b5f50c7",
   "metadata": {},
   "outputs": [
    {
     "name": "stdout",
     "output_type": "stream",
     "text": [
      "The Rich Dad Poor Dad whose author is Robert Kiyosaki & its publication year is April 11, 2017 with 1612680194 has available copies 49 \n"
     ]
    }
   ],
   "source": [
    "# Calling instance methods\n",
    "book.display_book_info()"
   ]
  },
  {
   "cell_type": "markdown",
   "id": "cb8aab8b",
   "metadata": {},
   "source": [
    "Q.8: 8. For a ticket booking system, you have to design the \"Ticket\" class with OOP principles in mind. The “Ticket” class should have the following attributes: a. ticket_id: Represents the unique identifier for the ticket. \n",
    "b. event_name: Represents the name of the event. \n",
    "c. event_date: Represents the date of the event. \n",
    "d. venue: Represents the venue of the event. \n",
    "e. seat_number: Represents the seat number associated with the ticket. f. price: Represents the price of the ticket. \n",
    "g. is_reserved: Represents the reservation status of the ticket. \n",
    "The class also includes the following methods: \n",
    "a. reserve_ticket(self): Marks the ticket as reserved if it is not already reserved. b. cancel_reservation(self): Cancels the reservation of the ticket if it is already reserved. \n",
    "c. display_ticket_info(self): Displays the information about the ticket, including its attributes and reservation status. \n"
   ]
  },
  {
   "cell_type": "code",
   "execution_count": 129,
   "id": "3f314dee",
   "metadata": {},
   "outputs": [],
   "source": [
    "class Ticket:\n",
    "    def __init__(self,ticket_id,event_name,event_date,venue,seat_number,price):\n",
    "        self.ticket_id=ticket_id # Instance variable\n",
    "        self.event_name=event_name # Instance variable\n",
    "        self.event_date=event_date # Instance variable\n",
    "        self.venue=venue # Instance variable\n",
    "        self.seat_number=seat_number# Instance variable\n",
    "        self.price=price # Instance variable\n",
    "        self.is_reserved=False\n",
    "        \n",
    "    def reserve_ticket(self): # Accessing and modifying instance variabl\n",
    "        if self.is_reserved==False:\n",
    "            self.is_reserved=True\n",
    "            print(f\"Ticket {self.ticket_id} is now reserved.\")\n",
    "        else:\n",
    "            print(f\"Ticket {self.ticket_id} is already reserved.\")\n",
    "            \n",
    "    def cancel_reservation(self): # Accessing and modifying instance variabl\n",
    "        if self.is_reserved==True:\n",
    "            self.is_reserved=False\n",
    "            print(f\"Reservation for Ticket {self.ticket_id} is canceled.\")\n",
    "        else:\n",
    "            print(f\"Ticket {self.ticket_id} is not reserved, so cannot cancel reservation.\")\n",
    "\n",
    "\n",
    "    \n",
    "    def display_ticket_info(self): # Displaying the attribute which is associated with instance of class \n",
    "        reservation_status = \"Reserved\" if self.is_reserved else \"Not Reserved\"\n",
    "        print(f\"Ticket ID: {self.ticket_id}\")\n",
    "        print(f\"Event Name: {self.event_name}\")\n",
    "        print(f\"Event Date: {self.event_date}\")\n",
    "        print(f\"Venue: {self.venue}\")\n",
    "        print(f\"Seat Number: {self.seat_number}\")\n",
    "        print(f\"Price: ${self.price}\")\n",
    "        print(f\"Reservation Status: {reservation_status}\")\n",
    "\n",
    "        \n"
   ]
  },
  {
   "cell_type": "code",
   "execution_count": 131,
   "id": "d9edead0",
   "metadata": {},
   "outputs": [],
   "source": [
    "# Creating an instance\n",
    "\n",
    "ticket1 = Ticket(1, \"Concert\", \"2023-09-15\", \"Music Hall\", \"A101\", 50.0)\n",
    "ticket2 = Ticket(2, \"Sports Game\", \"2023-09-20\", \"Stadium\", \"B205\", 30.0)\n",
    "\n"
   ]
  },
  {
   "cell_type": "code",
   "execution_count": 132,
   "id": "7c4782c1",
   "metadata": {},
   "outputs": [
    {
     "name": "stdout",
     "output_type": "stream",
     "text": [
      "Ticket ID: 1\n",
      "Event Name: Concert\n",
      "Event Date: 2023-09-15\n",
      "Venue: Music Hall\n",
      "Seat Number: A101\n",
      "Price: $50.0\n",
      "Reservation Status: Not Reserved\n",
      "Ticket 1 is now reserved.\n",
      "Reservation for Ticket 1 is canceled.\n",
      "Ticket ID: 1\n",
      "Event Name: Concert\n",
      "Event Date: 2023-09-15\n",
      "Venue: Music Hall\n",
      "Seat Number: A101\n",
      "Price: $50.0\n",
      "Reservation Status: Not Reserved\n"
     ]
    }
   ],
   "source": [
    "\n",
    "ticket1.display_ticket_info()\n",
    "ticket1.reserve_ticket()\n",
    "ticket1.cancel_reservation()\n",
    "ticket1.display_ticket_info()\n",
    "\n"
   ]
  },
  {
   "cell_type": "code",
   "execution_count": 133,
   "id": "205f01ce",
   "metadata": {},
   "outputs": [
    {
     "name": "stdout",
     "output_type": "stream",
     "text": [
      "Ticket ID: 2\n",
      "Event Name: Sports Game\n",
      "Event Date: 2023-09-20\n",
      "Venue: Stadium\n",
      "Seat Number: B205\n",
      "Price: $30.0\n",
      "Reservation Status: Not Reserved\n",
      "Ticket 2 is now reserved.\n",
      "Ticket ID: 2\n",
      "Event Name: Sports Game\n",
      "Event Date: 2023-09-20\n",
      "Venue: Stadium\n",
      "Seat Number: B205\n",
      "Price: $30.0\n",
      "Reservation Status: Reserved\n"
     ]
    }
   ],
   "source": [
    "ticket2.display_ticket_info()\n",
    "ticket2.reserve_ticket()\n",
    "ticket2.display_ticket_info()"
   ]
  },
  {
   "cell_type": "markdown",
   "id": "b69ec663",
   "metadata": {},
   "source": [
    "Q.9: \n",
    "You are creating a shopping cart for an e-commerce website. Using OOP to model the \"ShoppingCart\" functionality the class should contain following attributes and methods: \n",
    "a. items: Represents the list of items in the shopping cart. \n",
    "The class also includes the following methods:\n",
    "a. add_item(self, item): Adds an item to the shopping cart by appending it to the list of items. \n",
    "b. remove_item(self, item): Removes an item from the shopping cart if it exists in the list. \n",
    "c. view_cart(self): Displays the items currently present in the shopping cart. \n",
    "d. clear_cart(self): Clears all items from the shopping cart by reassigning an \n",
    "empty list to the items attribute\n"
   ]
  },
  {
   "cell_type": "code",
   "execution_count": 115,
   "id": "19e70d8a",
   "metadata": {},
   "outputs": [],
   "source": [
    "class ShoppingCart:\n",
    "    def __init__(self):\n",
    "        self.items=[]\n",
    "\n",
    "        \n",
    "    def add_item(self,item):\n",
    "        self.items.append(item)\n",
    "        print(f\"you have sucessfully added the {item} into your cart\")\n",
    "    def remove_item(self,item):\n",
    "        if item in self.items:\n",
    "            self.items.remove(item)\n",
    "            return print(f\"you have sucessfully removed the {item} from your cart\")\n",
    "        else:\n",
    "            print(f\"{item} is not present in the shopping cart\")\n",
    "    \n",
    "    def view_cart(self):\n",
    "        if not self.items:\n",
    "            print(\"The shopping cart is empty\")\n",
    "        else:\n",
    "            print(\"please find the your cart information\")\n",
    "            for item in self.items:\n",
    "                print(f\" -{item}\")\n",
    "        \n",
    "        \n",
    "    def clear_cart(self,ordered_item):\n",
    "        self.items=[]\n",
    "        print(\"Cleared all items from the shopping cart\")\n",
    "\n",
    "    \n",
    "        \n",
    "        \n",
    "        \n",
    "        "
   ]
  },
  {
   "cell_type": "code",
   "execution_count": 116,
   "id": "25807775",
   "metadata": {},
   "outputs": [],
   "source": [
    "vikas_cart=ShoppingCart()"
   ]
  },
  {
   "cell_type": "code",
   "execution_count": 123,
   "id": "295f5b3f",
   "metadata": {},
   "outputs": [
    {
     "name": "stdout",
     "output_type": "stream",
     "text": [
      "you have sucessfully added the item1 into your cart\n",
      "you have sucessfully added the item2 into your cart\n",
      "you have sucessfully added the item3 into your cart\n",
      "you have sucessfully added the item4 into your cart\n"
     ]
    }
   ],
   "source": [
    "vikas_cart.add_item(\"item1\")\n",
    "vikas_cart.add_item(\"item2\")\n",
    "vikas_cart.add_item(\"item3\")\n",
    "vikas_cart.add_item(\"item4\")"
   ]
  },
  {
   "cell_type": "code",
   "execution_count": 124,
   "id": "843f43b3",
   "metadata": {},
   "outputs": [
    {
     "name": "stdout",
     "output_type": "stream",
     "text": [
      "please find the your cart information\n",
      " -item1\n",
      " -item2\n",
      " -item4\n",
      " -item1\n",
      " -item2\n",
      " -item3\n",
      " -item4\n"
     ]
    }
   ],
   "source": [
    "vikas_cart.view_cart()"
   ]
  },
  {
   "cell_type": "code",
   "execution_count": 125,
   "id": "0f7ac86e",
   "metadata": {},
   "outputs": [
    {
     "name": "stdout",
     "output_type": "stream",
     "text": [
      "you have sucessfully removed the item3 from your cart\n"
     ]
    }
   ],
   "source": [
    "vikas_cart.remove_item(\"item3\")"
   ]
  },
  {
   "cell_type": "code",
   "execution_count": 126,
   "id": "840e2c6e",
   "metadata": {},
   "outputs": [
    {
     "name": "stdout",
     "output_type": "stream",
     "text": [
      "please find the your cart information\n",
      " -item1\n",
      " -item2\n",
      " -item4\n",
      " -item1\n",
      " -item2\n",
      " -item4\n"
     ]
    }
   ],
   "source": [
    "vikas_cart.view_cart()"
   ]
  },
  {
   "cell_type": "code",
   "execution_count": 127,
   "id": "a7414659",
   "metadata": {},
   "outputs": [
    {
     "name": "stdout",
     "output_type": "stream",
     "text": [
      "Cleared all items from the shopping cart\n"
     ]
    }
   ],
   "source": [
    "vikas_cart.clear_cart('final_order')"
   ]
  },
  {
   "cell_type": "markdown",
   "id": "327839ec",
   "metadata": {},
   "source": [
    "Q.10. \n",
    "Imagine a school management system. You have to design the \"Student\" class using OOP concepts.The “Student” class has the following attributes: \n",
    "a. name: Represents the name of the student. \n",
    "b. age: Represents the age of the student. \n",
    "c. grade: Represents the grade or class of the student. \n",
    "d. student_id: Represents the unique identifier for the student. \n",
    "e. attendance: Represents the attendance record of the student. \n",
    "The class should also include the following methods: \n",
    "a. update_attendance(self, date, status): Updates the attendance record of the \n",
    "student for a given date with the provided status (e.g., present or absent). \n",
    "b. get_attendance(self): Returns the attendance record of the student. \n",
    "c. get_average_attendance(self): Calculates and returns the average \n",
    "attendance percentage of the student based on their attendance record. \n"
   ]
  },
  {
   "cell_type": "code",
   "execution_count": 111,
   "id": "f0ff1753",
   "metadata": {},
   "outputs": [],
   "source": [
    "class Student:\n",
    "    def __init__(self,name,age,grade, student_id):\n",
    "        self.name=name\n",
    "        self.age=age\n",
    "        self.grade=grade\n",
    "        self.student_id=student_id\n",
    "        self.attendance={ } #Initialize attendance as an empty dictionary\n",
    "        \n",
    "    def update_attendance(self,date,status):\n",
    "        if date not in self.attendance:\n",
    "            self.attendance[date]=status\n",
    "            print(f\"Attendance for {self.name} on {date}:{status}\")\n",
    "        else:\n",
    "            print(f\"Attendance for {self.name} on {date} is already recorded as {self.attendance[date]}\")\n",
    "        \n",
    "    def get_attendance(self):\n",
    "        return self.attendance\n",
    "    \n",
    "    def get_average_attendance(self):\n",
    "        total_days=len(self.attendance)\n",
    "        if total_days==0:\n",
    "            return 0.0 # To avoid the division by zero\n",
    "        present_days=sum(1 for status in self.attendance.values() if status =='present')\n",
    "        average_attendance=(present_days/total_days)\n",
    "        return average_attendance\n",
    "        "
   ]
  },
  {
   "cell_type": "code",
   "execution_count": 113,
   "id": "5cd99437",
   "metadata": {},
   "outputs": [
    {
     "name": "stdout",
     "output_type": "stream",
     "text": [
      "Attendance for Vikas on 2023-09-01:present\n",
      "Attendance for Vikas on 2023-09-02:absent\n",
      "Attendance for Vikas on 2023-09-03:present\n",
      "{'2023-09-01': 'present', '2023-09-02': 'absent', '2023-09-03': 'present'}\n",
      "Average Attendance for Vikas: 67.0%\n"
     ]
    }
   ],
   "source": [
    "student1 = Student(\"Vikas\", 29, \"10th Grade\", \"S12345\")\n",
    "student1.update_attendance(\"2023-09-01\", \"present\")\n",
    "student1.update_attendance(\"2023-09-02\", \"absent\")\n",
    "student1.update_attendance(\"2023-09-03\", \"present\")\n",
    "\n",
    "print(student1.get_attendance())\n",
    "print(f\"Average Attendance for {student1.name}: {round(student1.get_average_attendance(),2)*100}%\")"
   ]
  },
  {
   "cell_type": "code",
   "execution_count": null,
   "id": "abe6f15d",
   "metadata": {},
   "outputs": [],
   "source": []
  }
 ],
 "metadata": {
  "kernelspec": {
   "display_name": "Python 3 (ipykernel)",
   "language": "python",
   "name": "python3"
  },
  "language_info": {
   "codemirror_mode": {
    "name": "ipython",
    "version": 3
   },
   "file_extension": ".py",
   "mimetype": "text/x-python",
   "name": "python",
   "nbconvert_exporter": "python",
   "pygments_lexer": "ipython3",
   "version": "3.10.9"
  }
 },
 "nbformat": 4,
 "nbformat_minor": 5
}
