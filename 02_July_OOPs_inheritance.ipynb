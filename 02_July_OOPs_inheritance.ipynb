{
 "cells": [
  {
   "cell_type": "markdown",
   "id": "5d4bd9b4",
   "metadata": {},
   "source": [
    " Q.1: Explain what inheritance is in object-oriented programming and why it is used"
   ]
  },
  {
   "cell_type": "markdown",
   "id": "a8658797",
   "metadata": {},
   "source": [
    "Answer:\n",
    "\n",
    "Inheritance is a fundamental concept in object-oriented programming (OOP) that allows one class to inherit properties and behaviors (attributes and methods) from another class. Inheritance creates a relationship between two classes: a parent class (also known as a base class or superclass) and a child class (also known as a derived class or subclass). The child class inherits the attributes and methods of the parent class and can also extend or override them as needed.\n",
    "    \n",
    "ere's an explanation of why inheritance is used and its key benefits:\n",
    "\n",
    "Code Reusability: Inheritance promotes code reuse by allowing you to define common attributes and methods in a parent class. Child classes can then inherit and reuse these elements, reducing the need to rewrite the same code in multiple places. This leads to more efficient and maintainable code.\n",
    "\n",
    "Modularity and Organization: Inheritance allows you to create a hierarchy of related classes. This hierarchical structure reflects real-world relationships and helps in organizing and structuring your codebase. It makes the code more modular and easier to understand.\n",
    "\n",
    "Polymorphism: Inheritance is closely related to the concept of polymorphism, which allows objects of different classes to be treated as objects of a common parent class. This enables you to write more flexible and generic code that can work with objects of different derived classes through a common interface.\n",
    "\n",
    "Extensibility: Child classes can extend the functionality of the parent class by adding new attributes and methods or by modifying existing ones. This enables you to build on existing code while maintaining compatibility with the parent class.\n",
    "\n",
    "Specialization: Child classes can specialize in specific behaviors while inheriting general behaviors from the parent class. This allows you to model different variations of objects in your program while still maintaining a consistent structure.\n",
    "\n",
    "Code Maintenance: Inheritance simplifies code maintenance because changes made to the parent class are automatically inherited by all child classes. This reduces the risk of introducing inconsistencies or errors when making updates."
   ]
  },
  {
   "cell_type": "code",
   "execution_count": 1,
   "id": "ca05f8ed",
   "metadata": {},
   "outputs": [
    {
     "name": "stdout",
     "output_type": "stream",
     "text": [
      "Buddy says Woof!\n",
      "Whiskers says Meow!\n"
     ]
    }
   ],
   "source": [
    "class Animal:\n",
    "    def __init__(self, name):\n",
    "        self.name = name\n",
    "\n",
    "    def speak(self):\n",
    "        pass\n",
    "\n",
    "class Dog(Animal):\n",
    "    def speak(self):\n",
    "        return f\"{self.name} says Woof!\"\n",
    "\n",
    "class Cat(Animal):\n",
    "    def speak(self):\n",
    "        return f\"{self.name} says Meow!\"\n",
    "\n",
    "dog = Dog(\"Buddy\")\n",
    "cat = Cat(\"Whiskers\")\n",
    "\n",
    "print(dog.speak())  # Output: Buddy says Woof!\n",
    "print(cat.speak())  # Output: Whiskers says Meow!"
   ]
  },
  {
   "cell_type": "markdown",
   "id": "3a5b3dad",
   "metadata": {},
   "source": [
    "Q.2: Discuss the concept of single inheritance and multiple inheritance, highlighting their differences and advantages. \n"
   ]
  },
  {
   "cell_type": "markdown",
   "id": "580ca71a",
   "metadata": {},
   "source": [
    "Answer:\n",
    "\n",
    "Single inheritance and multiple inheritance are two inheritance models in object-oriented programming (OOP) that define how classes can inherit properties and behaviors from other classes. They have distinct characteristics and use cases. Let's discuss each of them and highlight their differences and advantages:"
   ]
  },
  {
   "cell_type": "markdown",
   "id": "5ee263b7",
   "metadata": {},
   "source": [
    "Single Inheritance:\n",
    "\n",
    "Definition: In single inheritance, a class can inherit from only one parent class or superclass. This means that a child class can have only one direct ancestor.\n",
    "\n",
    "Example:"
   ]
  },
  {
   "cell_type": "code",
   "execution_count": 2,
   "id": "539390b2",
   "metadata": {},
   "outputs": [],
   "source": [
    "class Animal:\n",
    "    def speak(self):\n",
    "        pass\n",
    "\n",
    "class Dog(Animal):\n",
    "    def speak(self):\n",
    "        return \"Woof!\"\n",
    "\n",
    "class Cat(Animal):\n",
    "    def speak(self):\n",
    "        return \"Meow!\""
   ]
  },
  {
   "cell_type": "markdown",
   "id": "4de94ccb",
   "metadata": {},
   "source": [
    "Advantages of Single Inheritance:\n",
    "\n",
    "Simplicity: Single inheritance is straightforward and easier to understand because a class has only one parent class to inherit from. It leads to a simpler class hierarchy.\n",
    "\n",
    "Avoiding Diamond Problem: Single inheritance avoids the \"diamond problem,\" a common issue in multiple inheritance, where ambiguity arises when a class inherits from two classes that have a common ancestor."
   ]
  },
  {
   "cell_type": "markdown",
   "id": "0e23ca09",
   "metadata": {},
   "source": [
    "Multiple Inheritance:\n",
    "\n",
    "Definition: In multiple inheritance, a class can inherit properties and behaviors from multiple parent classes or superclasses. This means that a child class can have multiple direct ancestors.\n",
    "\n",
    "Example:"
   ]
  },
  {
   "cell_type": "code",
   "execution_count": 3,
   "id": "1c074d29",
   "metadata": {},
   "outputs": [],
   "source": [
    "class Bird:\n",
    "    def fly(self):\n",
    "        pass\n",
    "\n",
    "class Fish:\n",
    "    def swim(self):\n",
    "        pass\n",
    "\n",
    "class FlyingFish(Bird, Fish):\n",
    "    pass"
   ]
  },
  {
   "cell_type": "markdown",
   "id": "7cd021d9",
   "metadata": {},
   "source": [
    "Advantages of Multiple Inheritance:\n",
    "\n",
    "Code Reuse: Multiple inheritance allows you to reuse code from multiple sources, which can lead to more efficient and modular code. You can combine functionalities from different classes without duplicating code.\n",
    "\n",
    "Modeling Complex Relationships: Multiple inheritance is useful when you need to model complex relationships between objects. It allows you to create classes that inherit features from multiple domains or categories.\n",
    "\n",
    "\n",
    "Conclusion:\n",
    "\n",
    "Single inheritance is simpler and avoids certain complexities and potential issues, making it a good choice for many situations. Multiple inheritance, on the other hand, provides more flexibility and code reuse capabilities but requires careful design to handle complexities and potential conflicts effectively. The choice between them depends on the specific requirements and design goals of your project.\n",
    "\n",
    "\n",
    "\n",
    "\n"
   ]
  },
  {
   "cell_type": "markdown",
   "id": "6caafa11",
   "metadata": {},
   "source": [
    "Q.3: Explain the terms \"base class\" and \"derived class\" in the context of inheritance. \n"
   ]
  },
  {
   "cell_type": "markdown",
   "id": "88ae3ea2",
   "metadata": {},
   "source": [
    "Answer:\n",
    "\n",
    "In the context of inheritance in object-oriented programming (OOP), the terms \"base class\" and \"derived class\" are used to describe the relationship between classes within an inheritance hierarchy. These terms help clarify the roles and positions of classes when one class inherits from another. Here's what each term means:"
   ]
  },
  {
   "cell_type": "markdown",
   "id": "abc1a0dc",
   "metadata": {},
   "source": [
    "Base Class (Superclass or Parent Class):\n",
    "\n",
    "- A base class is the class from which other classes inherit properties and behaviors.\n",
    "- It is also known as a superclass or parent class because it serves as the foundation or parent for one or more derived classes.\n",
    "- The base class defines a common set of attributes and methods that can be reused by one or more derived classes.\n",
    "- It often represents a more general or abstract concept, while the derived classes represent more specific or specialized concepts.\n",
    "\n",
    "Example: In a geometry application, you might have a base class called Shape that defines common attributes like area and perimeter. Derived classes like Circle and Rectangle can inherit from Shape to calculate their specific areas and perimeters."
   ]
  },
  {
   "cell_type": "markdown",
   "id": "f95916a0",
   "metadata": {},
   "source": [
    "Derived Class (Subclass or Child Class):\n",
    "\n",
    "- A derived class is a class that inherits properties and behaviors from a base class.\n",
    "- It is also known as a subclass or child class because it derives its attributes and methods from a parent base class.\n",
    "- The derived class extends or specializes the functionality of the base class by adding new attributes, methods, or by overriding existing ones.\n",
    "- It represents a more specific or specialized concept compared to the base class.\n",
    "- Derived classes can have their own unique attributes and methods in addition to what they inherit from the base class.\n",
    "\n",
    "Example: Building on the Shape example, you might have a derived class called Circle that inherits from Shape but also has its own attributes like radius and methods to calculate its area and circumference."
   ]
  },
  {
   "cell_type": "markdown",
   "id": "b07667c2",
   "metadata": {},
   "source": [
    "Q.4:  What is the significance of the \"protected\" access modifier in inheritance? How does it differ from \"private\" and \"public\" modifiers? \n"
   ]
  },
  {
   "cell_type": "raw",
   "id": "d3631449",
   "metadata": {},
   "source": [
    "Answer:\n",
    "\n",
    "In object-oriented programming (OOP), access modifiers like \"protected,\" \"private,\" and \"public\" control the visibility and accessibility of class members (attributes and methods) within the class and its subclasses (if inheritance is involved). The \"protected\" access modifier has specific significance in the context of inheritance and differs from \"private\" and \"public\" in the following way"
   ]
  },
  {
   "cell_type": "markdown",
   "id": "6e53fccb",
   "metadata": {},
   "source": [
    "- Protected\" Access Modifier:\n",
    "\n",
    "   -  Members declared as \"protected\" are accessible within the class where they are defined and within its subclasses.\n",
    "   - The main significance of \"protected\" is that it allows subclasses to access and manipulate these members, but they are not accessible from outside the class hierarchy.\n",
    "  "
   ]
  },
  {
   "cell_type": "code",
   "execution_count": 4,
   "id": "cb8eb9bf",
   "metadata": {},
   "outputs": [
    {
     "name": "stdout",
     "output_type": "stream",
     "text": [
      "42\n"
     ]
    }
   ],
   "source": [
    "class BaseClass:\n",
    "    def __init__(self):\n",
    "        self._protected_attribute = 42  # Protected attribute\n",
    "\n",
    "    def protected_method(self):\n",
    "        print(\"This is a protected method\")\n",
    "\n",
    "class DerivedClass(BaseClass):\n",
    "    def access_protected(self):\n",
    "        print(self._protected_attribute)  # Accessing protected attribute\n",
    "\n",
    "derived_obj = DerivedClass()\n",
    "derived_obj.access_protected()  # Accessing protected attribute within the subclass"
   ]
  },
  {
   "cell_type": "markdown",
   "id": "70fd1867",
   "metadata": {},
   "source": [
    " - Private Access Modifier:\n",
    "\n",
    "   - Members declared as \"private\" are accessible only within the class where they are defined. They are not directly accessible from subclasses or external code.\n",
    "   - The primary purpose of \"private\" is to encapsulate and hide the implementation details of a class, preventing direct access and modification from outside."
   ]
  },
  {
   "cell_type": "code",
   "execution_count": 6,
   "id": "d4766507",
   "metadata": {},
   "outputs": [
    {
     "name": "stdout",
     "output_type": "stream",
     "text": [
      "42\n"
     ]
    }
   ],
   "source": [
    "class MyClass:\n",
    "    def __init__(self):\n",
    "        self.__private_attribute = 42  # Private attribute\n",
    "\n",
    "    def __private_method(self):\n",
    "        print(\"This is a private method\")\n",
    "\n",
    "my_obj = MyClass()\n",
    "print(my_obj.__private_attribute)  # This would result in an AttributeError"
   ]
  },
  {
   "cell_type": "markdown",
   "id": "890cbf62",
   "metadata": {},
   "source": [
    "- Public Access Modifier:\n",
    "\n",
    "  - Members declared as \"public\" are accessible from anywhere, both within the class and from external code.\n",
    "  - In many programming languages, members are considered public by default if no access modifier is specified.\n",
    "  - The use of \"public\" members should be carefully considered, as they expose the internal state and behavior of a class to external code."
   ]
  },
  {
   "cell_type": "code",
   "execution_count": 7,
   "id": "65d9d13b",
   "metadata": {},
   "outputs": [
    {
     "name": "stdout",
     "output_type": "stream",
     "text": [
      "42\n"
     ]
    }
   ],
   "source": [
    "class MyClass:\n",
    "    def __init__(self):\n",
    "        self.public_attribute = 42  # Public attribute\n",
    "\n",
    "    def public_method(self):\n",
    "        print(\"This is a public method\")\n",
    "\n",
    "my_obj = MyClass()\n",
    "print(my_obj.public_attribute)  # Accessing public attribute"
   ]
  },
  {
   "cell_type": "markdown",
   "id": "b4c2c8da",
   "metadata": {},
   "source": [
    "Q.5: What is the purpose of the \"super\" keyword in inheritance? Provide an example. "
   ]
  },
  {
   "cell_type": "markdown",
   "id": "865f86f7",
   "metadata": {},
   "source": [
    "Inheritance allows a subclass to inherit attributes and methods from a superclass. However, sometimes it's necessary for the subclass to extend or override the behavior of the superclass. In such cases, the super keyword in programming languages, including Python, is used to call a method or access an attribute from the superclass. The primary purpose of the super keyword is to invoke the superclass's implementation of a method or constructor within the subclass."
   ]
  },
  {
   "cell_type": "code",
   "execution_count": 9,
   "id": "d947158e",
   "metadata": {},
   "outputs": [
    {
     "name": "stdout",
     "output_type": "stream",
     "text": [
      "Name: Alice\n",
      "Age: 10\n"
     ]
    }
   ],
   "source": [
    "class Parent:\n",
    "    def __init__(self, name):\n",
    "        self.name = name\n",
    "\n",
    "    def display_info(self):\n",
    "        print(f\"Name: {self.name}\")\n",
    "\n",
    "class Child(Parent):\n",
    "    def __init__(self, name, age):\n",
    "        super().__init__(name)  # Call the constructor of the parent class\n",
    "        self.age = age\n",
    "\n",
    "    def display_info(self):\n",
    "        super().display_info()  # Call the display_info method of the parent class\n",
    "        print(f\"Age: {self.age}\")\n",
    "\n",
    "# Create instances of Child class\n",
    "child = Child(\"Alice\", 10)\n",
    "\n",
    "# Call the display_info method of Child class\n",
    "child.display_info()\n"
   ]
  },
  {
   "cell_type": "markdown",
   "id": "e2c06f31",
   "metadata": {},
   "source": [
    " Q.6: Create a base class called \"Vehicle\" with attributes like \"make\", \"model\", and \"year\". Then, create a derived class called \"Car\" that inherits from \"Vehicle\" and adds an attribute called \"fuel_type\". Implement appropriate methods in both classes."
   ]
  },
  {
   "cell_type": "code",
   "execution_count": 16,
   "id": "1ba441cd",
   "metadata": {},
   "outputs": [],
   "source": [
    "class Vehicle:\n",
    "    def __init__(self,make,model,year):\n",
    "        self.make=make\n",
    "        self.model=model\n",
    "        self.year=year\n",
    "    def get_info(self):\n",
    "        return f\"Make: {self.make}, Model: {self.model}, Year: {self.year}\"\n",
    "\n",
    "        \n",
    "    \n",
    "class Car(Vehicle):\n",
    "    def __init__(self,make,model,year,fuel_type):\n",
    "        super().__init__(make,model,year)\n",
    "        self.fuel_type=fuel_type\n",
    "            \n",
    "    def get_info(self):\n",
    "        # Call the base class's get_info method and append fuel_type\n",
    "        base_info = super().get_info()\n",
    "        return f\"{base_info}, Fuel Type: {self.fuel_type}\"\n",
    "            \n"
   ]
  },
  {
   "cell_type": "code",
   "execution_count": 17,
   "id": "c59cf648",
   "metadata": {},
   "outputs": [
    {
     "name": "stdout",
     "output_type": "stream",
     "text": [
      "Car 1 Information:\n",
      "Make: Toyota, Model: Camry, Year: 2022, Fuel Type: Gasoline\n",
      "\n",
      "Car 2 Information:\n",
      "Make: Tesla, Model: Model 3, Year: 2023, Fuel Type: Electric\n"
     ]
    }
   ],
   "source": [
    "# Create instances of the Car class\n",
    "car1 = Car(\"Toyota\", \"Camry\", 2022, \"Gasoline\")\n",
    "car2 = Car(\"Tesla\", \"Model 3\", 2023, \"Electric\")\n",
    "\n",
    "# Get and display information for each car\n",
    "print(\"Car 1 Information:\")\n",
    "print(car1.get_info())\n",
    "\n",
    "print(\"\\nCar 2 Information:\")\n",
    "print(car2.get_info())"
   ]
  },
  {
   "cell_type": "markdown",
   "id": "75525a0a",
   "metadata": {},
   "source": [
    "Q.7: \n",
    "Create a base class called \"Employee\" with attributes like \"name\" and \"salary.\" Derive two classes, \"Manager\" and \"Developer,\" from \"Employee.\" Add an additional attribute called \"department\" for the \"Manager\" class and \"programming_language\" for the \"Developer\" class. \n"
   ]
  },
  {
   "cell_type": "code",
   "execution_count": 24,
   "id": "c993ef87",
   "metadata": {},
   "outputs": [],
   "source": [
    "class Employee:\n",
    "    def __init__(self,name,salary):\n",
    "        self.name=name\n",
    "        self.salary=salary\n",
    "    def get_info(self):\n",
    "        return f\"Name: {self.name}, Salary: ${self.salary}\"\n",
    "        \n",
    "class Manager(Employee):\n",
    "    def __init__(self,name,salary,department):\n",
    "        super().__init__(name,salary)\n",
    "        self.department=department\n",
    "    def get_info(self):\n",
    "        # Call the base class's get_info method and append department\n",
    "        base_info = super().get_info()\n",
    "        return f\"{base_info}, Department: {self.department}\"\n",
    "\n",
    "class Developer(Employee):\n",
    "    def __init__(self,name,salary,programming_language):\n",
    "        super().__init__(name,salary)\n",
    "        self.programming_language=programming_language\n",
    "    def get_info(self):# Call the base class's get_info method and append programming_language\n",
    "        base_info = super().get_info()\n",
    "        return f\"{base_info}, Programming Language: {self.programming_language}\""
   ]
  },
  {
   "cell_type": "code",
   "execution_count": 25,
   "id": "813f0c9c",
   "metadata": {},
   "outputs": [
    {
     "name": "stdout",
     "output_type": "stream",
     "text": [
      "Manager Information:\n",
      "Name: Alice, Salary: $80000, Department: HR\n",
      "\n",
      "Developer Information:\n",
      "Name: Bob, Salary: $90000, Programming Language: Python\n"
     ]
    }
   ],
   "source": [
    "# Create instances of the Manager and Developer classes\n",
    "manager = Manager(\"Alice\", 80000, \"HR\")\n",
    "developer = Developer(\"Bob\", 90000, \"Python\")\n",
    "\n",
    "# Get and display information for each employee\n",
    "print(\"Manager Information:\")\n",
    "print(manager.get_info())\n",
    "\n",
    "print(\"\\nDeveloper Information:\")\n",
    "print(developer.get_info())    "
   ]
  },
  {
   "cell_type": "markdown",
   "id": "b8644c50",
   "metadata": {},
   "source": [
    "Q.8: Design a base class called \"Shape\" with attributes like \"colour\" and \"border_width.\" Create derived classes, \"Rectangle\" and \"Circle,\" that inherit from \"Shape\" and add specific attributes like \"length\" and \"width\" for the \"Rectangle\" class and \"radius\" for the \"Circle\" class."
   ]
  },
  {
   "cell_type": "code",
   "execution_count": 36,
   "id": "fed73531",
   "metadata": {},
   "outputs": [],
   "source": [
    "class Shape:\n",
    "    def __init__(self,colour,border_width):\n",
    "        self.colour=colour\n",
    "        self.border_width=border_width\n",
    "    def display_info(self):\n",
    "        return f\"Color: {self.colour}, Border Width: {self.border_width}\"\n",
    "        \n",
    "class Rectangle(Shape):\n",
    "    def __init__(self,colour,border_width,length,width):\n",
    "        super().__init__(colour,border_width)\n",
    "        self.length=length\n",
    "        self.width=width\n",
    "        \n",
    "    def display_info(self):\n",
    "        # Call the base class's display_info method and append length and width\n",
    "        base_info = super().display_info()\n",
    "        return f\"{base_info}, Length: {self.length}, Width: {self.width}\"\n",
    "    \n",
    "class Circle(Shape):\n",
    "    def __init__(self,colour,border_width,radius):\n",
    "        super().__init__(colour,border_width)\n",
    "        self.radius=radius\n",
    "        \n",
    "    def display_info(self):\n",
    "        # Call the base class's display_info method and append radius\n",
    "        base_info = super().display_info()\n",
    "        return f\"{base_info}, Radius: {self.radius}\" \n",
    "    "
   ]
  },
  {
   "cell_type": "code",
   "execution_count": 37,
   "id": "80b31683",
   "metadata": {},
   "outputs": [
    {
     "name": "stdout",
     "output_type": "stream",
     "text": [
      "Rectangle Information:\n",
      "Color: Red, Border Width: 2, Length: 10, Width: 5\n",
      "\n",
      "Circle Information:\n",
      "Color: Blue, Border Width: 1, Radius: 7\n"
     ]
    }
   ],
   "source": [
    "# Create instances of the Rectangle and Circle classes\n",
    "rectangle = Rectangle(\"Red\", 2, 10, 5)\n",
    "circle = Circle(\"Blue\", 1, 7)\n",
    "\n",
    "# Get and display information for each shape\n",
    "print(\"Rectangle Information:\")\n",
    "print(rectangle.display_info())\n",
    "\n",
    "print(\"\\nCircle Information:\")\n",
    "print(circle.display_info())"
   ]
  },
  {
   "cell_type": "markdown",
   "id": "a2393551",
   "metadata": {},
   "source": [
    "Q.9:Create a base class called \"Device\" with attributes like \"brand\" and \"model.\" Derive two classes, \"Phone\" and \"Tablet,\" from \"Device.\" Add specific attributes like \n",
    "\"screen_size\" for the \"Phone\" class and \"battery_capacity\" for the \"Tablet\" class.\n"
   ]
  },
  {
   "cell_type": "code",
   "execution_count": 42,
   "id": "062b04a4",
   "metadata": {},
   "outputs": [],
   "source": [
    "class Device:\n",
    "    def __init__(self, brand, model):\n",
    "        self.brand = brand\n",
    "        self.model = model\n",
    "\n",
    "    def display_info(self):\n",
    "        return f\"Brand: {self.brand}, Model: {self.model}\"\n",
    "\n",
    "class Phone(Device):\n",
    "    def __init__(self, brand, model, screen_size):\n",
    "        super().__init__(brand, model)  # Call the constructor of the base class\n",
    "        self.screen_size = screen_size\n",
    "\n",
    "    def display_info(self):\n",
    "        # Call the base class's display_info method and append screen_size\n",
    "        base_info = super().display_info()\n",
    "        return f\"{base_info}, Screen Size: {self.screen_size} inches\"\n",
    "\n",
    "class Tablet(Device):\n",
    "    def __init__(self, brand, model, battery_capacity):\n",
    "        super().__init__(brand, model)  # Call the constructor of the base class\n",
    "        self.battery_capacity = battery_capacity\n",
    "\n",
    "    def display_info(self):\n",
    "        # Call the base class's display_info method and append battery_capacity\n",
    "        base_info = super().display_info()\n",
    "        return f\"{base_info}, Battery Capacity: {self.battery_capacity} mAh\"\n"
   ]
  },
  {
   "cell_type": "code",
   "execution_count": 43,
   "id": "156c11bf",
   "metadata": {},
   "outputs": [
    {
     "name": "stdout",
     "output_type": "stream",
     "text": [
      "Phone Information:\n",
      "Brand: Apple, Model: iPhone 13, Screen Size: 6.1 inches\n",
      "\n",
      "Tablet Information:\n",
      "Brand: Samsung, Model: Galaxy Tab S7, Battery Capacity: 8000 mAh\n"
     ]
    }
   ],
   "source": [
    "# Create instances of the Phone and Tablet classes\n",
    "phone = Phone(\"Apple\", \"iPhone 13\", 6.1)\n",
    "tablet = Tablet(\"Samsung\", \"Galaxy Tab S7\", 8000)\n",
    "\n",
    "# Get and display information for each device\n",
    "print(\"Phone Information:\")\n",
    "print(phone.display_info())\n",
    "\n",
    "print(\"\\nTablet Information:\")\n",
    "print(tablet.display_info())"
   ]
  },
  {
   "cell_type": "markdown",
   "id": "d4a844f9",
   "metadata": {},
   "source": [
    "Q.10:  Create a base class called \"BankAccount\" with attributes like \"account_number\" and \"balance.\" Derive two classes, \"SavingsAccount\" and \"CheckingAccount,\" from \"BankAccount.\" Add specific methods like \"calculate_interest\" for the \n",
    "\"SavingsAccount\" class and \"deduct_fees\" for the \"CheckingAccount\" class. \n"
   ]
  },
  {
   "cell_type": "code",
   "execution_count": 44,
   "id": "fc185d2a",
   "metadata": {},
   "outputs": [],
   "source": [
    "class BankAccount:\n",
    "    def __init__(self, account_number, balance):\n",
    "        self.account_number = account_number\n",
    "        self.balance = balance\n",
    "\n",
    "    def display_info(self):\n",
    "        return f\"Account Number: {self.account_number}, Balance: ${self.balance}\"\n",
    "\n",
    "class SavingsAccount(BankAccount):\n",
    "    def __init__(self, account_number, balance, interest_rate):\n",
    "        super().__init__(account_number, balance)  # Call the constructor of the base class\n",
    "        self.interest_rate = interest_rate\n",
    "\n",
    "    def calculate_interest(self):\n",
    "        # Calculate interest and update the balance\n",
    "        interest = self.balance * (self.interest_rate / 100)\n",
    "        self.balance += interest\n",
    "\n",
    "    def display_info(self):\n",
    "        # Call the base class's display_info method and append interest_rate\n",
    "        base_info = super().display_info()\n",
    "        return f\"{base_info}, Interest Rate: {self.interest_rate}%\"\n",
    "\n",
    "class CheckingAccount(BankAccount):\n",
    "    def __init__(self, account_number, balance, fee_per_transaction):\n",
    "        super().__init__(account_number, balance)  # Call the constructor of the base class\n",
    "        self.fee_per_transaction = fee_per_transaction\n",
    "\n",
    "    def deduct_fees(self, num_transactions):\n",
    "        # Deduct fees for a specified number of transactions\n",
    "        fee = self.fee_per_transaction * num_transactions\n",
    "        self.balance -= fee\n",
    "\n",
    "    def display_info(self):\n",
    "        # Call the base class's display_info method and append fee_per_transaction\n",
    "        base_info = super().display_info()\n",
    "        return f\"{base_info}, Fee per Transaction: ${self.fee_per_transaction}\"\n",
    "\n",
    "        \n",
    "    "
   ]
  },
  {
   "cell_type": "code",
   "execution_count": 45,
   "id": "60680c15",
   "metadata": {},
   "outputs": [
    {
     "name": "stdout",
     "output_type": "stream",
     "text": [
      "Savings Account Information:\n",
      "Account Number: SA12345, Balance: $1000, Interest Rate: 2.5%\n",
      "Updated Balance after Interest: $1025.0\n",
      "\n",
      "Checking Account Information:\n",
      "Account Number: CA67890, Balance: $500, Fee per Transaction: $1.0\n",
      "Updated Balance after Deducting Fees: $497.0\n"
     ]
    }
   ],
   "source": [
    "\n",
    "# Create instances of the SavingsAccount and CheckingAccount classes\n",
    "savings_account = SavingsAccount(\"SA12345\", 1000, 2.5)\n",
    "checking_account = CheckingAccount(\"CA67890\", 500, 1.0)\n",
    "\n",
    "# Display information for each account\n",
    "print(\"Savings Account Information:\")\n",
    "print(savings_account.display_info())\n",
    "savings_account.calculate_interest()\n",
    "print(f\"Updated Balance after Interest: ${savings_account.balance}\")\n",
    "\n",
    "print(\"\\nChecking Account Information:\")\n",
    "print(checking_account.display_info())\n",
    "checking_account.deduct_fees(3)\n",
    "print(f\"Updated Balance after Deducting Fees: ${checking_account.balance}\")\n"
   ]
  },
  {
   "cell_type": "code",
   "execution_count": null,
   "id": "dbe1f5f8",
   "metadata": {},
   "outputs": [],
   "source": []
  }
 ],
 "metadata": {
  "kernelspec": {
   "display_name": "Python 3 (ipykernel)",
   "language": "python",
   "name": "python3"
  },
  "language_info": {
   "codemirror_mode": {
    "name": "ipython",
    "version": 3
   },
   "file_extension": ".py",
   "mimetype": "text/x-python",
   "name": "python",
   "nbconvert_exporter": "python",
   "pygments_lexer": "ipython3",
   "version": "3.10.9"
  }
 },
 "nbformat": 4,
 "nbformat_minor": 5
}
